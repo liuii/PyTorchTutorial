{
 "cells": [
  {
   "cell_type": "markdown",
   "metadata": {},
   "source": [
    "origin: http://pytorch.org/tutorials/beginner/pytorch_with_examples.html  \n",
    "translator: Hongpu Liu"
   ]
  },
  {
   "cell_type": "markdown",
   "metadata": {},
   "source": [
    "# 通过实例学习PyTorch\n",
    "这份教程通过一些例子介绍了PyTorch的基础概念。\n",
    "\n",
    "PyTorch提供了两个重要核心特性：\n",
    "- 可以运行在GPU上，并与numpy类似的n维张量\n",
    "- 构建与训练神经网络的时候可以进行自动微分\n",
    "\n",
    "在这些例子中将使用一个全连接ReLU网络来运行示例。该网络只有一个隐层，采用梯度下降算法来进行训练，损失函数为网络输出与真实输出的欧氏距离。\n",
    "\n",
    "## 目录\n",
    "\n",
    "- Tensors\n",
    "    - 01.Numpy版本\n",
    "    - 02.Tensors版本\n",
    "- Autograd\n",
    "    - 03.PyTorch：Variables与autograd版本\n",
    "    - 04.PyTorch：定义新的autograd函数\n",
    "    - 05.TensorFlow：静态图\n",
    "- nn模块\n",
    "    - 06.Pytorch：nn\n",
    "    - 07.Pytorch：optim\n",
    "    - 08.Pytorch：自定义nn模块\n",
    "    - 09.Pytorch：控制流+权重共享"
   ]
  }
 ],
 "metadata": {
  "kernelspec": {
   "display_name": "Python 2",
   "language": "python",
   "name": "python2"
  },
  "language_info": {
   "codemirror_mode": {
    "name": "ipython",
    "version": 2
   },
   "file_extension": ".py",
   "mimetype": "text/x-python",
   "name": "python",
   "nbconvert_exporter": "python",
   "pygments_lexer": "ipython2",
   "version": "2.7.12"
  }
 },
 "nbformat": 4,
 "nbformat_minor": 2
}
