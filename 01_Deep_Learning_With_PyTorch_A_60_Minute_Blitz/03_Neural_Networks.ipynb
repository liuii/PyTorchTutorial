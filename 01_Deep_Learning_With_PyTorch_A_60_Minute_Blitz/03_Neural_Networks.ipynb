{
 "cells": [
  {
   "cell_type": "markdown",
   "metadata": {},
   "source": [
    "Origin : http://pytorch.org/tutorials/beginner/blitz/neural_networks_tutorial.html  \n",
    "Translator : Hongpu Liu"
   ]
  },
  {
   "cell_type": "markdown",
   "metadata": {},
   "source": [
    "# 神经网络\n",
    "\n",
    "神经网络可以用**torch.nn**包来创建。\n",
    "\n",
    "**nn**依赖于**autograd**，以定义模型及其微分。一个**nn.Module**包括了层、一个**forward(input)**方法，并返回其**output**。\n",
    "\n",
    "例如，下面用来进行手写数字图像分类的网络：\n",
    "\n",
    "![](./imgs/mnist.png)  \n",
    "\n",
    "这是一个简单的前馈网络，它获得输入，将其前馈到后面的数个层中，最后获得输出。\n",
    "\n",
    "典型的神经网络训练过程如下：\n",
    "\n",
    "- 定义包含一些可学习参数（或权重）的神经网络\n",
    "- 从数据集中迭代的获取输入\n",
    "- 用神经网络计算输出\n",
    "- 计算损失（输出与正确的标签之间的差异）\n",
    "- 反向传播网络参数的梯度\n",
    "- 更新网络的权重，一个典型、简单的更新规则：**weight = weight - learning_rate * gradient**\n",
    "\n",
    "## 1. 定义神经网络\n",
    "定义神经网络："
   ]
  },
  {
   "cell_type": "code",
   "execution_count": 1,
   "metadata": {},
   "outputs": [
    {
     "name": "stdout",
     "output_type": "stream",
     "text": [
      "Net(\n",
      "  (conv1): Conv2d(1, 6, kernel_size=(5, 5), stride=(1, 1))\n",
      "  (conv2): Conv2d(6, 16, kernel_size=(5, 5), stride=(1, 1))\n",
      "  (fc1): Linear(in_features=400, out_features=120, bias=True)\n",
      "  (fc2): Linear(in_features=120, out_features=84, bias=True)\n",
      "  (fc3): Linear(in_features=84, out_features=10, bias=True)\n",
      ")\n"
     ]
    }
   ],
   "source": [
    "from __future__ import print_function\n",
    "import torch\n",
    "from torch.autograd import Variable\n",
    "import torch.nn as nn\n",
    "import torch.nn.functional as F\n",
    "\n",
    "class Net(nn.Module):\n",
    "    \n",
    "    def __init__(self):\n",
    "        super(Net, self).__init__()\n",
    "        # 输入图像1个通道，输出6个通道，采用5*5卷积核\n",
    "        self.conv1 = nn.Conv2d(1, 6, 5)\n",
    "        # 输入Feature Map有6通道，输出16个通道，采用5*5卷积核\n",
    "        self.conv2 = nn.Conv2d(6,16,5)\n",
    "        # 定义仿射变换：y = Wx + b\n",
    "        self.fc1 = nn.Linear(16 * 5 * 5, 120)\n",
    "        self.fc2 = nn.Linear(120, 84)\n",
    "        self.fc3 = nn.Linear(84, 10)\n",
    "        \n",
    "    def forward(self, x):\n",
    "        # 最大池化层使用一个 (2, 2)的窗口\n",
    "        x = F.max_pool2d(F.relu(self.conv1(x)), (2, 2))\n",
    "        # 如果池化层用的卷积核是方的，可以只写一个数值\n",
    "        x = F.max_pool2d(F.relu(self.conv2(x)), 2)\n",
    "        x = x.view(-1, self.num_flat_features(x))\n",
    "        x = F.relu(self.fc1(x))\n",
    "        x = F.relu(self.fc2(x))\n",
    "        x = self.fc3(x)\n",
    "        return x\n",
    "    \n",
    "    def num_flat_features(self, x):\n",
    "        # 注意输入的第0个维度是batch，因此每个样本的数量要去掉第0个维度。\n",
    "        size = x.size()[1:]\n",
    "        num_features = 1\n",
    "        for s in size:\n",
    "            num_features *= s\n",
    "        return num_features\n",
    "    \n",
    "net = Net()\n",
    "print(net)"
   ]
  },
  {
   "cell_type": "markdown",
   "metadata": {},
   "source": [
    "由于使用了**autograd**，仅需要定义**forward**函数，**backward**函数（计算梯度的函数）会自动定义。在**forward**函数中可以进行任意的张量运算。\n",
    "\n",
    "模型的可学习参数可以通过**net.parameters()**来返回。"
   ]
  },
  {
   "cell_type": "code",
   "execution_count": 2,
   "metadata": {},
   "outputs": [
    {
     "name": "stdout",
     "output_type": "stream",
     "text": [
      "10\n",
      "torch.Size([6, 1, 5, 5])\n"
     ]
    }
   ],
   "source": [
    "params = list(net.parameters())\n",
    "print(len(params))\n",
    "print(params[0].size()) # conv1层的权重"
   ]
  },
  {
   "cell_type": "markdown",
   "metadata": {},
   "source": [
    "**forward**的输入和输出都是一个**autograd.Variable**。\n",
    "\n",
    ">**注意**：该网络（LeNet）的输入是一个32x32的张量，在MNIST数据集上使用该网络，需要将数据集中的图像缩放为32x32。"
   ]
  },
  {
   "cell_type": "code",
   "execution_count": 3,
   "metadata": {},
   "outputs": [
    {
     "name": "stdout",
     "output_type": "stream",
     "text": [
      "Variable containing:\n",
      "-0.1058  0.1141  0.0983  0.0175  0.0834  0.1061 -0.0266  0.0616 -0.1618  0.1151\n",
      "[torch.FloatTensor of size 1x10]\n",
      "\n"
     ]
    }
   ],
   "source": [
    "# 第0个维度是batch，第1个维度是channel，第2、3个维度是图像的高和宽\n",
    "input = Variable(torch.randn(1,1,32,32))\n",
    "out = net(input)\n",
    "print(out)"
   ]
  },
  {
   "cell_type": "markdown",
   "metadata": {},
   "source": [
    "将梯度缓冲清零（每次**backward**都对累加梯度，因此需要清零），并传播某个随机梯度："
   ]
  },
  {
   "cell_type": "code",
   "execution_count": 4,
   "metadata": {},
   "outputs": [],
   "source": [
    "net.zero_grad()\n",
    "\n",
    "# 输入的随机梯度第0个维度是batch，第1个维度是最后一层输出，out的维度是（1，10）\n",
    "out.backward(torch.randn(1,10))"
   ]
  },
  {
   "cell_type": "markdown",
   "metadata": {},
   "source": [
    ">**注意**\n",
    "\n",
    ">**torch.nn**只支持小批量（mini-batch）作为输入。整个**torch.nn**只支持输入一组（mini-batch）的样本，而不支持输入一个样本。\n",
    "\n",
    ">例如，**nn.Conv2d**需要输入一个4D张量：**nSamples x nChannels x Height x Width**。\n",
    "\n",
    ">如果只有一个单独的样本，可以用**input.unsqueeze(0)**来添加一个假的batch维度。\n",
    "\n",
    "在继续之前，回顾一下之前看到的所有类。\n",
    "\n",
    "**回顾**  \n",
    "- **torch.Tensor** - 多维数组\n",
    "- **autograd.Variable** - 封装张量，并记录对该张量的所有历史操作。除了增加了一些如**backward()**之类的方法之外，与**Tensor**具有相同的API。此外还要保存对该张量求得的梯度。\n",
    "- **nn.Module** - 神经网络模块。可以非常方便的封装参数，并实现将参数转到GPU、输出和加载等功能。\n",
    "- **nn.Parameter** - 一种**Variable**，将其指定为一个**Module**的属性时，会自动注册为参数。\n",
    "- **autograd.Function** - 实现了自动梯度计算中前馈与反馈的定义。每个**Variable**的运算，至少创建一个**Function**节点，连接到该运算所创建的**Variable**，并对其历史进行编码。\n",
    "\n",
    "**目前已经讨论的内容**\n",
    "- 定义一个神经网络\n",
    "- 处理输出和调用反馈\n",
    "\n",
    "**剩余的内容**\n",
    "- 计算损失\n",
    "- 更新网络权重\n",
    "\n",
    "## 2. 损失函数（Loss Function）\n",
    "损失函数以输入对应的*(output, target)*作为参数，计算一个输出与目标之间差异的估计值。\n",
    "\n",
    "在**nn**包中有几个不同的损失函数。一个简单的损失函数为**nn.MSELoss**，该函数计算输入和目标之间的平均平方误差。\n",
    "\n",
    "例如："
   ]
  },
  {
   "cell_type": "code",
   "execution_count": 5,
   "metadata": {},
   "outputs": [
    {
     "name": "stdout",
     "output_type": "stream",
     "text": [
      "Variable containing:\n",
      " 38.2010\n",
      "[torch.FloatTensor of size 1]\n",
      "\n"
     ]
    }
   ],
   "source": [
    "output = net(input)\n",
    "target = Variable(torch.arange(1,11)) # 随便选的一个目标（target），仅用于举例\n",
    "target = target.view(1, -1) # 将target的形状改为与output相同\n",
    "criterion = nn.MSELoss()\n",
    "\n",
    "loss = criterion(output, target)\n",
    "print(loss)"
   ]
  },
  {
   "cell_type": "markdown",
   "metadata": {},
   "source": [
    "如果沿着**loss**的反方向，利用它的**.grad_fn**属性，就可以看到如下所示的计算图：\n",
    "\n",
    ">    input -> conv2d -> relu -> maxpool2d -> conv2d -> relu -> maxpool2d  \n",
    ">          -> view -> linear -> relu -> linear -> relu -> linear  \n",
    ">          -> MSELoss  \n",
    ">          -> loss  \n",
    "\n",
    "因此，当调用**loss.backward()**时，计算损失对图中所有变量的微分，并将其累加到所有变量的**.grad**当中。\n",
    "\n",
    "下面的代码将展示部分**backward**过程。"
   ]
  },
  {
   "cell_type": "code",
   "execution_count": 6,
   "metadata": {},
   "outputs": [
    {
     "name": "stdout",
     "output_type": "stream",
     "text": [
      "<MseLossBackward object at 0x7ff7807e2990>\n",
      "<AddmmBackward object at 0x7ff7807e2cd0>\n",
      "<ExpandBackward object at 0x7ff7807e2990>\n"
     ]
    }
   ],
   "source": [
    "print(loss.grad_fn) # MSELoss\n",
    "print(loss.grad_fn.next_functions[0][0]) # Linear\n",
    "print(loss.grad_fn.next_functions[0][0].next_functions[0][0]) # ReLU"
   ]
  },
  {
   "cell_type": "markdown",
   "metadata": {},
   "source": [
    "## 3. 反向传播（Backprop）\n",
    "要反向传播误差，唯一要做的就是执行**loss.backward()**。由于该操作会累加梯度信息，因此在此之前需要清空现存的梯度。\n",
    "\n",
    "接下来将要调用**loss.backward()**，并显示执行前后conv1层bias的梯度的差异。"
   ]
  },
  {
   "cell_type": "code",
   "execution_count": 7,
   "metadata": {},
   "outputs": [
    {
     "name": "stdout",
     "output_type": "stream",
     "text": [
      "conv1.bias.grad before backward\n",
      "Variable containing:\n",
      " 0\n",
      " 0\n",
      " 0\n",
      " 0\n",
      " 0\n",
      " 0\n",
      "[torch.FloatTensor of size 6]\n",
      "\n",
      "conv1.bias.grad after backward\n",
      "Variable containing:\n",
      "-0.0443\n",
      "-0.0152\n",
      "-0.0213\n",
      "-0.0105\n",
      "-0.1136\n",
      " 0.0712\n",
      "[torch.FloatTensor of size 6]\n",
      "\n"
     ]
    }
   ],
   "source": [
    "net.zero_grad() # 将所有参数的梯度缓存清零\n",
    "\n",
    "print('conv1.bias.grad before backward')\n",
    "print(net.conv1.bias.grad)\n",
    "\n",
    "loss.backward()\n",
    "\n",
    "print('conv1.bias.grad after backward')\n",
    "print(net.conv1.bias.grad)"
   ]
  },
  {
   "cell_type": "markdown",
   "metadata": {},
   "source": [
    "现在，我们已经看到了如何使用损失函数。\n",
    "\n",
    ">**扩展阅读**  \n",
    ">在神经网络包中，包含各种不同用于构建深度神经网络的模块和损失函数，完整的列表请参考[这里](http://pytorch.org/docs/nn)。\n",
    "\n",
    "\n",
    "**还需要学习的内容**  \n",
    "- 更新网络的权重\n",
    "\n",
    "## 4. 更新权重\n",
    "在实践中最简单的更新算法是采用随机梯度下降（Stochastic Gradient Descent, SGD）:\n",
    "\n",
    "**weight = weight - learning_rate * gradient**\n",
    "\n",
    "可以用非常简单的Python代码来实现：\n",
    "\n",
    "``` Python\n",
    "learning_rate = 0.01\n",
    "for f in net.parameters():\n",
    "    f.data.sub_(f.grad.data * learning_rate)\n",
    "```\n",
    "\n",
    "然而，在使用神经网络时，经常希望使用不同的更新规则，例如SGD、Nesterov-SGD、Adam、RMSProp等。包**torch.optim**实现了所有这些方法，非常易于使用："
   ]
  },
  {
   "cell_type": "code",
   "execution_count": 8,
   "metadata": {},
   "outputs": [],
   "source": [
    "import torch.optim as optim\n",
    "\n",
    "# 创建一个优化器\n",
    "optimizer = optim.SGD(net.parameters(), lr=0.01)\n",
    "\n",
    "# 在训练循环中可以用下面的方法完成训练\n",
    "optimizer.zero_grad() # 清除梯度缓存\n",
    "output = net(input)\n",
    "loss = criterion(output, target)\n",
    "loss.backward()\n",
    "optimizer.step()"
   ]
  },
  {
   "cell_type": "markdown",
   "metadata": {},
   "source": [
    ">**注意**  \n",
    ">在上面的代码中，对梯度的缓存用**optimizer.zero_grad()**进行了手动清除。这是因为在反向传播的时候梯度是要累加的。"
   ]
  }
 ],
 "metadata": {
  "kernelspec": {
   "display_name": "Python 2",
   "language": "python",
   "name": "python2"
  },
  "language_info": {
   "codemirror_mode": {
    "name": "ipython",
    "version": 2
   },
   "file_extension": ".py",
   "mimetype": "text/x-python",
   "name": "python",
   "nbconvert_exporter": "python",
   "pygments_lexer": "ipython2",
   "version": "2.7.12"
  }
 },
 "nbformat": 4,
 "nbformat_minor": 2
}
