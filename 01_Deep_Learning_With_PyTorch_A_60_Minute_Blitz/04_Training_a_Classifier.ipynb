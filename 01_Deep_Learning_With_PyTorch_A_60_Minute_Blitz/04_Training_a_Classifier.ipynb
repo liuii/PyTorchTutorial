{
 "cells": [
  {
   "cell_type": "markdown",
   "metadata": {},
   "source": [
    "Origin : http://pytorch.org/tutorials/beginner/blitz/cifar10_tutorial.html   \n",
    "Translator : Hongpu Liu"
   ]
  },
  {
   "cell_type": "code",
   "execution_count": 2,
   "metadata": {
    "collapsed": true
   },
   "outputs": [],
   "source": [
    "%matplotlib inline\n",
    "from __future__ import print_function"
   ]
  },
  {
   "cell_type": "markdown",
   "metadata": {},
   "source": [
    "# 训练一个分类器\n",
    "之前已经看到如何定义神经网络、计算损失以及更新网络的权重。\n",
    "\n",
    "## 1. 数据（Data）\n",
    "通常情况下，你可以使用标准的Python包来处理图像、文本、音频或视频数据，并将他们加载到NumPy数组中。然后再将这个数组转换为**torch.*Tensor**\n",
    "\n",
    "- 对于图像数据，诸如Pillow、OpenCV非常有用\n",
    "- 对于音频数据，可以使用SciPy和Librosa\n",
    "- 对于文本，或者用基于原生Python/Cython进行加载，或者用NLTK或SpaCy来处理\n",
    "\n",
    "对于视觉，**torchvision**提供了通用数据集（ImageNet、CIFAR-10、MNIST等）的加载器、图像数据变换器、可视化等功能。包括**torchvision.datasets**和**torch.utils.data.Dataloader**。\n",
    "\n",
    "这个工具提供了巨大的便利，以避免书写千篇一律的载入代码。\n",
    "\n",
    "下面的例子将使用CIFAR-10数据集。该数据包含以下10个类：\n",
    ">  ‘airplane’, ‘automobile’, ‘bird’, ‘cat’, ‘deer’, ‘dog’, ‘frog’, ‘horse’, ‘ship’, ‘truck'  \n",
    "\n",
    "CIFAR-10中的图像尺寸为3*32*32，即3通道的32x32像素的图像。\n",
    "\n",
    "![](./imgs/cifar10.png)\n",
    "\n",
    "## 2. 训练一个图像分类器\n",
    "通过以下步骤来实现图像分类器：\n",
    "1. 使用**torchvision**加载并归一化的CIFAR-10的训练集和测试集\n",
    "2. 定义一个卷积神经网络\n",
    "3. 定义损失函数\n",
    "4. 用训练集数据训练网络\n",
    "5. 用测试集数据测试网络性能\n",
    "\n",
    "### 2.1 加载和归一化CIFAR-10数据集\n",
    "使用**torchvision**可以非常简单的载入CIFAR-10数据集。"
   ]
  },
  {
   "cell_type": "code",
   "execution_count": 3,
   "metadata": {
    "collapsed": true
   },
   "outputs": [],
   "source": [
    "import torch\n",
    "import torchvision\n",
    "import torchvision.transforms as transforms"
   ]
  },
  {
   "cell_type": "markdown",
   "metadata": {},
   "source": [
    "**Torchvision**数据集的输出的图像是值在[0,1]之间的**PILImage**图像。将它们变换为像素值在[-1, 1]之间的归一化张量。"
   ]
  },
  {
   "cell_type": "code",
   "execution_count": 4,
   "metadata": {},
   "outputs": [
    {
     "name": "stdout",
     "output_type": "stream",
     "text": [
      "Files already downloaded and verified\n",
      "Files already downloaded and verified\n"
     ]
    }
   ],
   "source": [
    "transform = transforms.Compose(\n",
    "    [transforms.ToTensor(),\n",
    "     transforms.Normalize((0.5, 0.5, 0.5),(0.5, 0.5, 0.5))])\n",
    "\n",
    "trainset = torchvision.datasets.CIFAR10(root='./data', train=True, download=True, transform=transform)\n",
    "trainloader = torch.utils.data.DataLoader(trainset, batch_size=4, shuffle=True, num_workers=2)\n",
    "\n",
    "testset = torchvision.datasets.CIFAR10(root='./data', train=False, download=True, transform=transform)\n",
    "testloader = torch.utils.data.DataLoader(testset, batch_size=4, shuffle=True, num_workers=2)\n",
    "\n",
    "classes = ('plane', 'car', 'bird', 'cat', 'deer', 'dog', 'frog', 'horse', 'ship', 'truck')"
   ]
  },
  {
   "cell_type": "markdown",
   "metadata": {},
   "source": [
    "下面展示一些训练图像"
   ]
  },
  {
   "cell_type": "code",
   "execution_count": 5,
   "metadata": {},
   "outputs": [
    {
     "name": "stdout",
     "output_type": "stream",
     "text": [
      "truck  deer horse  frog\n"
     ]
    },
    {
     "data": {
      "image/png": "[encoded data removed]",
      "text/plain": [
       "<matplotlib.figure.Figure at 0x7f2acac35910>"
      ]
     },
     "metadata": {},
     "output_type": "display_data"
    }
   ],
   "source": [
    "import matplotlib.pyplot as plt\n",
    "import numpy as np\n",
    "\n",
    "# 显示图像的函数\n",
    "def imshow(img):\n",
    "    img = img / 2 + 0.5 #从归一化中恢复\n",
    "    npimg = img.numpy()\n",
    "    plt.imshow(np.transpose(npimg, (1,2,0)))\n",
    "\n",
    "# 随机获得一些训练图像\n",
    "dataiter = iter(trainloader)\n",
    "images, labels = dataiter.next()\n",
    "\n",
    "# 显示图像\n",
    "imshow(torchvision.utils.make_grid(images))\n",
    "# 打印图像\n",
    "print(' '.join('%5s' % classes[labels[j]] for j in range(4)))"
   ]
  },
  {
   "cell_type": "markdown",
   "metadata": {},
   "source": [
    "### 2.2 定义一个卷积神经网络\n",
    "拷贝上一节的神经网络，将其输入改为三个通道（原始为1个通道）。"
   ]
  },
  {
   "cell_type": "code",
   "execution_count": 6,
   "metadata": {},
   "outputs": [
    {
     "name": "stdout",
     "output_type": "stream",
     "text": [
      "Net(\n",
      "  (conv1): Conv2d(3, 6, kernel_size=(5, 5), stride=(1, 1))\n",
      "  (pool): MaxPool2d(kernel_size=(2, 2), stride=(2, 2), dilation=(1, 1), ceil_mode=False)\n",
      "  (conv2): Conv2d(6, 16, kernel_size=(5, 5), stride=(1, 1))\n",
      "  (fc1): Linear(in_features=400, out_features=120, bias=True)\n",
      "  (fc2): Linear(in_features=120, out_features=84, bias=True)\n",
      "  (fc3): Linear(in_features=84, out_features=10, bias=True)\n",
      ")\n"
     ]
    }
   ],
   "source": [
    "from torch.autograd import Variable\n",
    "import torch.nn as nn\n",
    "import torch.nn.functional as F\n",
    "\n",
    "class Net(nn.Module):\n",
    "    def __init__(self):\n",
    "        super(Net, self).__init__()\n",
    "        self.conv1 = nn.Conv2d(3, 6, 5)\n",
    "        self.pool = nn.MaxPool2d(2, 2)\n",
    "        self.conv2 = nn.Conv2d(6, 16, 5)\n",
    "        self.fc1 = nn.Linear(16 * 5 * 5, 120)\n",
    "        self.fc2 = nn.Linear(120, 84)\n",
    "        self.fc3 = nn.Linear(84, 10)\n",
    "    \n",
    "    def forward(self, x):\n",
    "        x = self.pool(F.relu(self.conv1(x)))\n",
    "        x = self.pool(F.relu(self.conv2(x)))\n",
    "        x= x.view(-1, 16 * 5 * 5)\n",
    "        x = F.relu(self.fc1(x))\n",
    "        x = F.relu(self.fc2(x))\n",
    "        x = self.fc3(x)\n",
    "        return x\n",
    "\n",
    "net = Net()\n",
    "print(net)"
   ]
  },
  {
   "cell_type": "markdown",
   "metadata": {},
   "source": [
    "### 2.3 定义损失函数和优化器\n",
    "使用分类交叉熵（Cross-Entropy）损失和带冲量的SGD优化器："
   ]
  },
  {
   "cell_type": "code",
   "execution_count": 7,
   "metadata": {
    "collapsed": true
   },
   "outputs": [],
   "source": [
    "import torch.optim as optim\n",
    "\n",
    "criterion = nn.CrossEntropyLoss()\n",
    "optimizer = optim.SGD(net.parameters(), lr=0.001, momentum=0.9)"
   ]
  },
  {
   "cell_type": "markdown",
   "metadata": {},
   "source": [
    "### 2.4 训练网络\n",
    "从这里开始变得有趣起来。简单的利用数据迭代器获得输入，然后将输入送入到网络和优化器。"
   ]
  },
  {
   "cell_type": "code",
   "execution_count": 8,
   "metadata": {},
   "outputs": [
    {
     "name": "stdout",
     "output_type": "stream",
     "text": [
      "[1,  2000] loss: 2.261\n",
      "[1,  4000] loss: 1.929\n",
      "[1,  6000] loss: 1.711\n",
      "[1,  8000] loss: 1.613\n",
      "[1, 10000] loss: 1.544\n",
      "[1, 12000] loss: 1.493\n",
      "[2,  2000] loss: 1.409\n",
      "[2,  4000] loss: 1.379\n",
      "[2,  6000] loss: 1.362\n",
      "[2,  8000] loss: 1.344\n",
      "[2, 10000] loss: 1.308\n",
      "[2, 12000] loss: 1.280\n",
      "[3,  2000] loss: 1.215\n",
      "[3,  4000] loss: 1.205\n",
      "[3,  6000] loss: 1.199\n",
      "[3,  8000] loss: 1.199\n",
      "[3, 10000] loss: 1.180\n",
      "[3, 12000] loss: 1.181\n",
      "[4,  2000] loss: 1.093\n",
      "[4,  4000] loss: 1.114\n",
      "[4,  6000] loss: 1.109\n",
      "[4,  8000] loss: 1.092\n",
      "[4, 10000] loss: 1.094\n",
      "[4, 12000] loss: 1.098\n",
      "Finished Training\n"
     ]
    }
   ],
   "source": [
    "for epoch in range(4):\n",
    "    running_loss = 0.0\n",
    "    for i, data in enumerate(trainloader, 0):\n",
    "        # 获得输入\n",
    "        inputs, labels = data\n",
    "        \n",
    "        # 将输入和标签包裹到Variable中\n",
    "        inputs, labels = Variable(inputs), Variable(labels)\n",
    "        \n",
    "        # 将梯度缓存清零\n",
    "        optimizer.zero_grad()\n",
    "        \n",
    "        # 前馈、反馈和优化\n",
    "        outputs = net(inputs)\n",
    "        loss = criterion(outputs, labels)\n",
    "        loss.backward()\n",
    "        optimizer.step()\n",
    "        \n",
    "        # 打印状态\n",
    "        running_loss += loss.data[0]\n",
    "        if i % 2000 == 1999:\n",
    "            print('[%d, %5d] loss: %.3f' % (epoch + 1, i + 1, running_loss / 2000))\n",
    "            running_loss = 0.0\n",
    "            \n",
    "print('Finished Training')"
   ]
  },
  {
   "cell_type": "markdown",
   "metadata": {},
   "source": [
    "### 2.5 用测试数据测试网络\n",
    "前面已经用训练集对网络进行了两轮训练。接下来要检查网络是否学到了一些东西。\n",
    "\n",
    "将网络输出的预测标签与基准数据标签进行比较，如果预测正确，将样本加入到预测正确的列表中。\n",
    "\n",
    "首先，显示一些测试集图像。"
   ]
  },
  {
   "cell_type": "code",
   "execution_count": 9,
   "metadata": {},
   "outputs": [
    {
     "name": "stdout",
     "output_type": "stream",
     "text": [
      "GroundTruth:    cat horse  frog  frog\n"
     ]
    },
    {
     "data": {
      "image/png": "[encoded data removed]",
      "text/plain": [
       "<matplotlib.figure.Figure at 0x7f2acac358d0>"
      ]
     },
     "metadata": {},
     "output_type": "display_data"
    }
   ],
   "source": [
    "dataiter = iter(testloader)\n",
    "images, labels = dataiter.next()\n",
    "\n",
    "# 显示图像\n",
    "imshow(torchvision.utils.make_grid(images))\n",
    "print('GroundTruth: ',' '.join('%5s' % classes[labels[j]] for j in range(4)))"
   ]
  },
  {
   "cell_type": "markdown",
   "metadata": {},
   "source": [
    "接下来，用神经网络计算这些图像的标签："
   ]
  },
  {
   "cell_type": "code",
   "execution_count": 10,
   "metadata": {},
   "outputs": [],
   "source": [
    "outputs = net(Variable(images))"
   ]
  },
  {
   "cell_type": "markdown",
   "metadata": {},
   "source": [
    "输出对应了10个分类的能量值。对应某个分类的能量值越高，神经网络对图像属于该分类的信心越强。因此，获得最高能量值的索引："
   ]
  },
  {
   "cell_type": "code",
   "execution_count": 11,
   "metadata": {},
   "outputs": [
    {
     "name": "stdout",
     "output_type": "stream",
     "text": [
      "Predicted:   frog horse  frog truck\n"
     ]
    }
   ],
   "source": [
    "_, predicted = torch.max(outputs.data,1)\n",
    "\n",
    "print('Predicted: ', ' '.join('%5s' % classes[predicted[j]] for j in range(4)))"
   ]
  },
  {
   "cell_type": "markdown",
   "metadata": {},
   "source": [
    "下面看一下在整个数据集中网络的性能。"
   ]
  },
  {
   "cell_type": "code",
   "execution_count": 12,
   "metadata": {},
   "outputs": [
    {
     "name": "stdout",
     "output_type": "stream",
     "text": [
      "Accuracy of the network on the 10000 test images: 60 %\n"
     ]
    }
   ],
   "source": [
    "correct = 0\n",
    "total = 0\n",
    "for data in testloader:\n",
    "    images, labels = data\n",
    "    outputs = net(Variable(images))\n",
    "    _, predicted = torch.max(outputs.data, 1)\n",
    "    total += labels.size(0)\n",
    "    correct += (predicted == labels).sum()\n",
    "\n",
    "print('Accuracy of the network on the 10000 test images: %d %%' % (100 * correct / total))"
   ]
  },
  {
   "cell_type": "markdown",
   "metadata": {},
   "source": [
    "结果要比随机选择好，因为随机选择的话准确率只有10%（从10个类中随机选择一个）。看上去网络学到了一些东西。\n",
    "\n",
    "计算哪些类上的性能较好，那些类效果不好："
   ]
  },
  {
   "cell_type": "code",
   "execution_count": 13,
   "metadata": {},
   "outputs": [
    {
     "name": "stdout",
     "output_type": "stream",
     "text": [
      "Accuracy of plane : 67 %\n",
      "Accuracy of   car : 79 %\n",
      "Accuracy of  bird : 46 %\n",
      "Accuracy of   cat : 32 %\n",
      "Accuracy of  deer : 53 %\n",
      "Accuracy of   dog : 62 %\n",
      "Accuracy of  frog : 62 %\n",
      "Accuracy of horse : 67 %\n",
      "Accuracy of  ship : 69 %\n",
      "Accuracy of truck : 66 %\n"
     ]
    }
   ],
   "source": [
    "class_correct = list(0. for i in range(10))\n",
    "class_total = list(0. for i in range(10))\n",
    "for data in testloader:\n",
    "    images, labels = data\n",
    "    outputs = net(Variable(images))\n",
    "    _, predicted = torch.max(outputs.data, 1)\n",
    "    c = (predicted == labels).squeeze()\n",
    "    for i in range(4):\n",
    "        label = labels[i]\n",
    "        class_correct[label] += c[i]\n",
    "        class_total[label] += 1\n",
    "\n",
    "for i in range(10):\n",
    "    print('Accuracy of %5s : %2d %%' % (classes[i], 100 * class_correct[i] / class_total[i]))"
   ]
  },
  {
   "cell_type": "markdown",
   "metadata": {},
   "source": [
    "接下来讨论如何在GPU上运行神经网络。\n",
    "\n",
    "## 3. 在GPU上训练\n",
    "将神经网络迁移到GPU与将Tensor迁移GPU上类似。下面的语句将递归的将所有模块的参数和梯度缓存转换为GPU张量。\n",
    "\n",
    "``` Python\n",
    "net.cuda()\n",
    "```\n",
    "\n",
    "此外，还要记得将每步迭代的输入与目标转换为GPU张量：\n",
    "\n",
    "``` Python\n",
    "inputs, labels = Variable(inputs.cuda()), Variable(labels.cuda())\n",
    "```\n",
    "\n",
    "在GPU上运行时，并没有巨大的速度提升。这是因为这个网络真的非常小。\n",
    "\n",
    "**练习**尝试增加网络的宽度（第一个**nn.Conv2d**的第二个参数，和第二个**nn.Conv2d**的第一个参数，他们需要相同，即增加第一个卷积层的输出通道数），可以看看速度上的变化。\n",
    "\n",
    "**目标达成**  \n",
    "- 理解PyTorch的张量库和神经网络\n",
    "- 训练一个用于分类图像的小型神经网络\n",
    "\n",
    "## 4. 在多个GPU上进行训练\n",
    "如果要获得更大的速度提升，可以阅读[数据并行](http://pytorch.org/tutorials/beginner/blitz/data_parallel_tutorial.html)。"
   ]
  }
 ],
 "metadata": {
  "kernelspec": {
   "display_name": "Python 2",
   "language": "python",
   "name": "python2"
  },
  "language_info": {
   "codemirror_mode": {
    "name": "ipython",
    "version": 2
   },
   "file_extension": ".py",
   "mimetype": "text/x-python",
   "name": "python",
   "nbconvert_exporter": "python",
   "pygments_lexer": "ipython2",
   "version": "2.7.12"
  }
 },
 "nbformat": 4,
 "nbformat_minor": 2
}
