{
 "cells": [
  {
   "cell_type": "markdown",
   "metadata": {},
   "source": [
    "origin: http://pytorch.org/tutorials/beginner/deep_learning_nlp_tutorial.html  \n",
    "translator: Hongpu Liu"
   ]
  },
  {
   "cell_type": "markdown",
   "metadata": {},
   "source": [
    "# 深度学习与自然语言处理（PyTorch）\n",
    "这份教程将介绍深度学习框架PyTorch的主要概念。许多概念（例如计算图抽象和自动梯度）并不是PyTorch独有的，几乎所有的深度学习工具都有这些概念。\n",
    "\n",
    "本教程的受众是那些从未使用深度学习框架（TensorFlow、Theano、Keras、Dynet等）编写自然语言处理程序的人。本教程假设阅读者拥有自然语言处理的核心知识：例如词性标注、语言模型等等。此外还假设阅读者对神经网络的熟悉程度能够达到AI介绍课程的水平。通常这些课程涉及了前馈网络中基本的反向传播算法、以及神经网络是由线性与非线性单元构成的链式组合。本教程假定阅读者已经有了这些预备知识，准备开始编写深度学习代码。\n",
    "\n",
    "要注意，本教程关注的是**模型**，而非数据。因此紧创建了少量的低维测试用例，这样可以看到在训练过程中权重是如何改变的。如果你有一些真实的数据要进行尝试，可以把记事本中模型拿出来进行使用。\n",
    "\n",
    "本教程包含：\n",
    "- PyTorch介绍\n",
    "- 用PyTorch编写深度学习代码\n",
    "- 词嵌入：对词汇语义进行编码\n",
    "- 序列模型与LSTM网络\n",
    "- 高级话题：制定动态决策与Bi-LSTM CRF"
   ]
  }
 ],
 "metadata": {
  "kernelspec": {
   "display_name": "Python 2",
   "language": "python",
   "name": "python2"
  },
  "language_info": {
   "codemirror_mode": {
    "name": "ipython",
    "version": 2
   },
   "file_extension": ".py",
   "mimetype": "text/x-python",
   "name": "python",
   "nbconvert_exporter": "python",
   "pygments_lexer": "ipython2",
   "version": "2.7.12"
  }
 },
 "nbformat": 4,
 "nbformat_minor": 2
}
